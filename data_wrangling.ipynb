{
  "nbformat": 4,
  "nbformat_minor": 0,
  "metadata": {
    "colab": {
      "provenance": [],
      "authorship_tag": "ABX9TyOQ6pFOQyo8ertrcmLe1zp+",
      "include_colab_link": true
    },
    "kernelspec": {
      "name": "python3",
      "display_name": "Python 3"
    },
    "language_info": {
      "name": "python"
    }
  },
  "cells": [
    {
      "cell_type": "markdown",
      "metadata": {
        "id": "view-in-github",
        "colab_type": "text"
      },
      "source": [
        "<a href=\"https://colab.research.google.com/github/evelyndick/lake_district_temp/blob/main/data_wrangling.ipynb\" target=\"_parent\"><img src=\"https://colab.research.google.com/assets/colab-badge.svg\" alt=\"Open In Colab\"/></a>"
      ]
    },
    {
      "cell_type": "code",
      "execution_count": null,
      "metadata": {
        "id": "O3gMd1TmCxrf"
      },
      "outputs": [],
      "source": [
        "# import necessary libraries\n",
        "import pandas as pd                  # pandas: provides data structures and data analysis tools\n",
        "import matplotlib.pyplot as plt      # matplotlib.pyplot: used for creating visualisations\n",
        "import seaborn as sns                # seaborn: built on top of matplotlib, provides statistical graphics"
      ]
    },
    {
      "cell_type": "markdown",
      "source": [
        "## Combine MIDAS-Open files into temp DataFrame"
      ],
      "metadata": {
        "id": "neTD3Why9edt"
      }
    },
    {
      "cell_type": "code",
      "source": [
        "# preprocessess MIDAS hourly temperature data - cleans and summarises the data\n",
        "def preprocess_hourly(df):\n",
        "\n",
        "    # drop the last row of the dataset\n",
        "    df = df.drop(df.index[-1])\n",
        "\n",
        "    # select relevant columns: 'ob_time' and 'air_temperature'\n",
        "    df = df[['ob_time', 'air_temperature']]\n",
        "\n",
        "    # convert 'ob_time' from a string format to datetime format\n",
        "    df['ob_time'] = pd.to_datetime(df['ob_time'], format='%d/%m/%Y %H:%M')\n",
        "\n",
        "    # extract date and year from 'ob_time' into new columns\n",
        "    df['date'] = df['ob_time'].dt.date\n",
        "    df['year'] = df['ob_time'].dt.year\n",
        "\n",
        "    # drop unnecessary column 'ob_time'\n",
        "    df = df.drop(columns=['ob_time'])\n",
        "\n",
        "    # convert 'date' back to date time for grouping\n",
        "    df['date'] = pd.to_datetime(df['date'])\n",
        "\n",
        "    # calculate the mean of 'air_temperature' grouped by 'date'\n",
        "    avg = df.groupby(['date']).agg({'air_temperature': 'mean'}).reset_index()\n",
        "\n",
        "    # round the mean air temperature results to 2 decimal places\n",
        "    avg = avg.round(decimals=2)\n",
        "\n",
        "    return avg"
      ],
      "metadata": {
        "id": "ZnZcpFNjDuke"
      },
      "execution_count": null,
      "outputs": []
    },
    {
      "cell_type": "code",
      "source": [
        "#-------- Keswick --------\n",
        "\n",
        "# load MIDAS temperature data from different years\n",
        "keswick_2022 = pd.read_csv('keswick_2022.csv', low_memory=False)\n",
        "keswick_2021 = pd.read_csv('keswick_2021.csv', low_memory=False)\n",
        "keswick_2020 = pd.read_csv('keswick_2020.csv', low_memory=False)\n",
        "keswick_2019 = pd.read_csv('keswick_2019.csv', low_memory=False)\n",
        "\n",
        "# apply preprocessing function to clean and summarise the data\n",
        "keswick_2022 = preprocess_hourly(keswick_2022)\n",
        "keswick_2021 = preprocess_hourly(keswick_2021)\n",
        "keswick_2020 = preprocess_hourly(keswick_2020)\n",
        "keswick_2019 = preprocess_hourly(keswick_2019)\n",
        "\n",
        "# combine the preprocessed data from all years into a single DataFrame\n",
        "keswick = pd.concat([keswick_2021, keswick_2022, keswick_2020, keswick_2019], ignore_index=True)\n",
        "\n",
        "# add columns for latitude, longitude, and a station identifier\n",
        "keswick['lat'] = 54.614\n",
        "keswick['long'] = -3.155\n",
        "keswick['station'] = 1"
      ],
      "metadata": {
        "id": "-S9NI4PTD5pl"
      },
      "execution_count": null,
      "outputs": []
    },
    {
      "cell_type": "code",
      "source": [
        "#-------- Blencathra --------\n",
        "\n",
        "# load MIDAS temperature data from different years\n",
        "blencathra_2022 = pd.read_csv('blencathra_2022.csv', low_memory=False)\n",
        "blencathra_2021 = pd.read_csv('blencathra_2021.csv', low_memory=False)\n",
        "blencathra_2020 = pd.read_csv('blencathra_2020.csv', low_memory=False)\n",
        "blencathra_2019 = pd.read_csv('blencathra_2019.csv', low_memory=False)\n",
        "\n",
        "# apply preprocessing function to clean and summarise the data\n",
        "blencathra_2022 = preprocess_hourly(blencathra_2022)\n",
        "blencathra_2021 = preprocess_hourly(blencathra_2021)\n",
        "blencathra_2020 = preprocess_hourly(blencathra_2020)\n",
        "blencathra_2019 = preprocess_hourly(blencathra_2019)\n",
        "\n",
        "# combine the preprocessed data from all years into a single DataFrame\n",
        "blencathra = pd.concat([blencathra_2021, blencathra_2022, blencathra_2020, blencathra_2019], ignore_index=True)\n",
        "\n",
        "# add columns for latitude, longitude, and a station identifier\n",
        "blencathra['lat'] = 54.619\n",
        "blencathra['long'] = -3.079\n",
        "blencathra['station'] = 2"
      ],
      "metadata": {
        "id": "dM11p4VUEDnD"
      },
      "execution_count": null,
      "outputs": []
    },
    {
      "cell_type": "code",
      "source": [
        "#-------- Bridgefoot --------\n",
        "\n",
        "# load MIDAS temperature data from different years\n",
        "bridgefoot_2022 = pd.read_csv('bridgefoot_2022.csv', low_memory=False)\n",
        "bridgefoot_2021 = pd.read_csv('bridgefoot_2021.csv', low_memory=False)\n",
        "bridgefoot_2020 = pd.read_csv('bridgefoot_2020.csv', low_memory=False)\n",
        "bridgefoot_2019 = pd.read_csv('bridgefoot_2019.csv', low_memory=False)\n",
        "\n",
        "# apply preprocessing function to clean and summarise the data\n",
        "bridgefoot_2022 = preprocess_hourly(bridgefoot_2022)\n",
        "bridgefoot_2021 = preprocess_hourly(bridgefoot_2021)\n",
        "bridgefoot_2020 = preprocess_hourly(bridgefoot_2020)\n",
        "bridgefoot_2019 = preprocess_hourly(bridgefoot_2019)\n",
        "\n",
        "# combine the preprocessed data from all years into a single DataFrame\n",
        "bridgefoot = pd.concat([bridgefoot_2021, bridgefoot_2022, bridgefoot_2020, bridgefoot_2019], ignore_index=True)\n",
        "\n",
        "# add columns for latitude, longitude, and a station identifier\n",
        "bridgefoot['lat'] = 54.649\n",
        "bridgefoot['long'] = -3.458\n",
        "bridgefoot['station'] = 3"
      ],
      "metadata": {
        "id": "H8w-wHGCEJOz"
      },
      "execution_count": null,
      "outputs": []
    },
    {
      "cell_type": "code",
      "source": [
        "#-------- Shap --------\n",
        "\n",
        "# load MIDAS temperature data from different years\n",
        "shap_2022 = pd.read_csv('shap_2022.csv', low_memory=False)\n",
        "shap_2021 = pd.read_csv('shap_2021.csv', low_memory=False)\n",
        "shap_2020 = pd.read_csv('shap_2020.csv', low_memory=False)\n",
        "shap_2019 = pd.read_csv('shap_2019.csv', low_memory=False)\n",
        "\n",
        "# apply preprocessing function to clean and summarise the data\n",
        "shap_2022 = preprocess_hourly(shap_2022)\n",
        "shap_2021 = preprocess_hourly(shap_2021)\n",
        "shap_2020 = preprocess_hourly(shap_2020)\n",
        "shap_2019 = preprocess_hourly(shap_2019)\n",
        "\n",
        "# combine the preprocessed data from all years into a single DataFrame\n",
        "shap = pd.concat([shap_2021, shap_2022, shap_2019, shap_2020], ignore_index=True)\n",
        "\n",
        "# add columns for latitude, longitude, and a station identifier\n",
        "shap['lat'] = 54.502\n",
        "shap['long'] = -2.683\n",
        "shap['station'] = 4"
      ],
      "metadata": {
        "id": "K_MMK4z2ELGt"
      },
      "execution_count": null,
      "outputs": []
    },
    {
      "cell_type": "code",
      "source": [
        "#-------- Levens-Hall --------\n",
        "\n",
        "# load MIDAS temperature data from different years\n",
        "levens_hall_2022 = pd.read_csv('levens-hall_2022.csv', low_memory=False)\n",
        "levens_hall_2021 = pd.read_csv('levens-hall_2021.csv', low_memory=False)\n",
        "levens_hall_2020 = pd.read_csv('levens-hall_2020.csv', low_memory=False)\n",
        "levens_hall_2019 = pd.read_csv('levens-hall_2019.csv', low_memory=False)\n",
        "\n",
        "# apply preprocessing function to clean and summarise the data\n",
        "levens_hall_2022 = preprocess_hourly(levens_hall_2022)\n",
        "levens_hall_2021 = preprocess_hourly(levens_hall_2021)\n",
        "levens_hall_2020 = preprocess_hourly(levens_hall_2020)\n",
        "levens_hall_2019 = preprocess_hourly(levens_hall_2019)\n",
        "\n",
        "# combine the preprocessed data from all years into a single DataFrame\n",
        "levens_hall = pd.concat([levens_hall_2021, levens_hall_2022, levens_hall_2020, levens_hall_2019], ignore_index=True)\n",
        "\n",
        "# add columns for latitude, longitude, and a station identifier\n",
        "levens_hall['lat'] = 54.259\n",
        "levens_hall['long'] = -2.777\n",
        "levens_hall['station'] = 5"
      ],
      "metadata": {
        "id": "tSt7gBGjEMzj"
      },
      "execution_count": null,
      "outputs": []
    },
    {
      "cell_type": "code",
      "source": [
        "#-------- St Bees Head (No.2) --------\n",
        "\n",
        "# load MIDAS temperature data from different years\n",
        "st_bees_head_2022 = pd.read_csv('st-bees-head_2022.csv', low_memory=False)\n",
        "st_bees_head_2021 = pd.read_csv('st-bees-head_2021.csv', low_memory=False)\n",
        "st_bees_head_2020 = pd.read_csv('st-bees-head_2020.csv', low_memory=False)\n",
        "st_bees_head_2019 = pd.read_csv('st-bees-head_2019.csv', low_memory=False)\n",
        "\n",
        "# apply preprocessing function to clean and summarise the data\n",
        "st_bees_head_2022 = preprocess_hourly(st_bees_head_2022)\n",
        "st_bees_head_2021 = preprocess_hourly(st_bees_head_2021)\n",
        "st_bees_head_2020 = preprocess_hourly(st_bees_head_2020)\n",
        "st_bees_head_2019 = preprocess_hourly(st_bees_head_2019)\n",
        "\n",
        "# combine the preprocessed data from all years into a single DataFrame\n",
        "st_bees_head = pd.concat([st_bees_head_2021, st_bees_head_2022, st_bees_head_2020, st_bees_head_2019], ignore_index=True)\n",
        "\n",
        "# add columns for latitude, longitude, and a station identifier\n",
        "st_bees_head['lat'] = 54.518\n",
        "st_bees_head['long'] = -3.613\n",
        "st_bees_head['station'] = 6"
      ],
      "metadata": {
        "id": "gVhJJhVnEOdH"
      },
      "execution_count": null,
      "outputs": []
    },
    {
      "cell_type": "code",
      "source": [
        "#-------- Walney Island --------\n",
        "\n",
        "# load MIDAS temperature data from different years\n",
        "walney_island_2022 = pd.read_csv('walney-island_2022.csv', low_memory=False)\n",
        "walney_island_2021 = pd.read_csv('walney-island_2021.csv', low_memory=False)\n",
        "walney_island_2020 = pd.read_csv('walney-island_2020.csv', low_memory=False)\n",
        "walney_island_2019 = pd.read_csv('walney-island_2019.csv', low_memory=False)\n",
        "\n",
        "# apply preprocessing function to clean and summarise the data\n",
        "walney_island_2022 = preprocess_hourly(walney_island_2022)\n",
        "walney_island_2021 = preprocess_hourly(walney_island_2021)\n",
        "walney_island_2020 = preprocess_hourly(walney_island_2020)\n",
        "walney_island_2019 = preprocess_hourly(walney_island_2019)\n",
        "\n",
        "# combine the preprocessed data from all years into a single DataFrame\n",
        "walney_island = pd.concat([walney_island_2021, walney_island_2022, walney_island_2020, walney_island_2019], ignore_index=True)\n",
        "\n",
        "# add columns for latitude, longitude, and a station identifier\n",
        "walney_island['lat'] = 54.125\n",
        "walney_island['long'] = -3.257\n",
        "walney_island['station'] = 7"
      ],
      "metadata": {
        "id": "Nbp82G8rEQDC"
      },
      "execution_count": null,
      "outputs": []
    },
    {
      "cell_type": "code",
      "source": [
        "#-------- Great Dun Fell (No. 2) --------\n",
        "\n",
        "# load MIDAS temperature data from different years\n",
        "great_dun_fell_2022 = pd.read_csv('great-dun-fell_2022.csv', low_memory=False)\n",
        "great_dun_fell_2021 = pd.read_csv('great-dun-fell_2021.csv', low_memory=False)\n",
        "great_dun_fell_2020 = pd.read_csv('great-dun-fell_2020.csv', low_memory=False)\n",
        "great_dun_fell_2019 = pd.read_csv('great-dun-fell_2019.csv', low_memory=False)\n",
        "\n",
        "# apply preprocessing function to clean and summarise the data\n",
        "great_dun_fell_2022 = preprocess_hourly(great_dun_fell_2022)\n",
        "great_dun_fell_2021 = preprocess_hourly(great_dun_fell_2021)\n",
        "great_dun_fell_2020 = preprocess_hourly(great_dun_fell_2020)\n",
        "great_dun_fell_2019 = preprocess_hourly(great_dun_fell_2019)\n",
        "\n",
        "# combine the preprocessed data from all years into a single DataFrame\n",
        "great_dun_fell = pd.concat([great_dun_fell_2021, great_dun_fell_2022, great_dun_fell_2020, great_dun_fell_2019], ignore_index=True)\n",
        "\n",
        "# add columns for latitude, longitude, and a station identifier\n",
        "great_dun_fell['lat'] = 54.683\n",
        "great_dun_fell['long'] = -2.45\n",
        "great_dun_fell['station'] = 8"
      ],
      "metadata": {
        "id": "NmJdtl67ERe3"
      },
      "execution_count": null,
      "outputs": []
    },
    {
      "cell_type": "code",
      "source": [
        "#-------- Maulds Meaburn --------\n",
        "\n",
        "# load MIDAS temperature data from different years\n",
        "maulds_meaburn_2022 = pd.read_csv('maulds-meaburn_2022.csv', low_memory=False)\n",
        "maulds_meaburn_2021 = pd.read_csv('maulds-meaburn_2021.csv', low_memory=False)\n",
        "maulds_meaburn_2020 = pd.read_csv('maulds-meaburn_2020.csv', low_memory=False)\n",
        "maulds_meaburn_2019 = pd.read_csv('maulds-meaburn_2019.csv', low_memory=False)\n",
        "\n",
        "# apply preprocessing function to clean and summarise the data\n",
        "maulds_meaburn_2022 = preprocess_hourly(maulds_meaburn_2022)\n",
        "maulds_meaburn_2021 = preprocess_hourly(maulds_meaburn_2021)\n",
        "maulds_meaburn_2020 = preprocess_hourly(maulds_meaburn_2020)\n",
        "maulds_meaburn_2019 = preprocess_hourly(maulds_meaburn_2019)\n",
        "\n",
        "# combine the preprocessed data from all years into a single DataFrame\n",
        "maulds_meaburn = pd.concat([maulds_meaburn_2021, maulds_meaburn_2022, maulds_meaburn_2020, maulds_meaburn_2019], ignore_index=True)\n",
        "\n",
        "# add columns for latitude, longitude, and a station identifier\n",
        "maulds_meaburn['lat'] = 54.538\n",
        "maulds_meaburn['long'] = -2.581\n",
        "maulds_meaburn['station'] = 9"
      ],
      "metadata": {
        "id": "uTsjhXQSIQEx"
      },
      "execution_count": null,
      "outputs": []
    },
    {
      "cell_type": "code",
      "source": [
        "#-------- Hazelrigg --------\n",
        "\n",
        "# load MIDAS temperature data from different years\n",
        "hazelrigg_2022 = pd.read_csv('hazelrigg_2022.csv', low_memory=False)\n",
        "hazelrigg_2021 = pd.read_csv('hazelrigg_2021.csv', low_memory=False)\n",
        "hazelrigg_2020 = pd.read_csv('hazelrigg_2020.csv', low_memory=False)\n",
        "hazelrigg_2019 = pd.read_csv('hazelrigg_2019.csv', low_memory=False)\n",
        "\n",
        "# apply preprocessing function to clean and summarise the data\n",
        "hazelrigg_2022 = preprocess_hourly(hazelrigg_2022)\n",
        "hazelrigg_2021 = preprocess_hourly(hazelrigg_2021)\n",
        "hazelrigg_2020 = preprocess_hourly(hazelrigg_2020)\n",
        "hazelrigg_2019 = preprocess_hourly(hazelrigg_2019)\n",
        "\n",
        "# combine the preprocessed data from all years into a single DataFrame\n",
        "hazelrigg = pd.concat([hazelrigg_2021, hazelrigg_2022, hazelrigg_2020, hazelrigg_2019], ignore_index=True)\n",
        "\n",
        "# add columns for latitude, longitude, and a station identifier\n",
        "hazelrigg['lat'] = 54.014\n",
        "hazelrigg['long'] = -2.774\n",
        "hazelrigg['station'] = 10"
      ],
      "metadata": {
        "id": "P3v8JUB8IzEB"
      },
      "execution_count": null,
      "outputs": []
    },
    {
      "cell_type": "code",
      "source": [
        "#-------- Brampton --------\n",
        "\n",
        "# load MIDAS temperature data from different years\n",
        "brampton_2022 = pd.read_csv('brampton_2022.csv', low_memory=False)\n",
        "brampton_2021 = pd.read_csv('brampton_2021.csv', low_memory=False)\n",
        "brampton_2020 = pd.read_csv('brampton_2020.csv', low_memory=False)\n",
        "brampton_2019 = pd.read_csv('brampton_2019.csv', low_memory=False)\n",
        "\n",
        "# apply preprocessing function to clean and summarise the data\n",
        "brampton_2022 = preprocess_hourly(brampton_2022)\n",
        "brampton_2021 = preprocess_hourly(brampton_2021)\n",
        "brampton_2020 = preprocess_hourly(brampton_2020)\n",
        "brampton_2019 = preprocess_hourly(brampton_2019)\n",
        "\n",
        "# combine the preprocessed data from all years into a single DataFrame\n",
        "brampton = pd.concat([brampton_2021, brampton_2022, brampton_2020, brampton_2019], ignore_index=True)\n",
        "\n",
        "# add columns for latitude, longitude, and a station identifier\n",
        "brampton['lat'] = 54.935\n",
        "brampton['long'] = -2.733\n",
        "brampton['station'] = 11"
      ],
      "metadata": {
        "id": "r-JY_48fJn-0"
      },
      "execution_count": null,
      "outputs": []
    },
    {
      "cell_type": "code",
      "source": [
        "#-------- Carlisle --------\n",
        "\n",
        "# load MIDAS temperature data from different years\n",
        "carlisle_2022 = pd.read_csv('carlisle_2022.csv', low_memory=False)\n",
        "carlisle_2021 = pd.read_csv('carlisle_2021.csv', low_memory=False)\n",
        "carlisle_2020 = pd.read_csv('carlisle_2020.csv', low_memory=False)\n",
        "carlisle_2019 = pd.read_csv('carlisle_2019.csv', low_memory=False)\n",
        "\n",
        "# apply preprocessing function to clean and summarise the data\n",
        "carlisle_2022 = preprocess_hourly(carlisle_2022)\n",
        "carlisle_2021 = preprocess_hourly(carlisle_2021)\n",
        "carlisle_2020 = preprocess_hourly(carlisle_2020)\n",
        "carlisle_2019 = preprocess_hourly(carlisle_2019)\n",
        "\n",
        "# combine the preprocessed data from all years into a single DataFrame\n",
        "carlisle = pd.concat([carlisle_2021, carlisle_2022, carlisle_2020, carlisle_2019], ignore_index=True)\n",
        "\n",
        "# add columns for latitude, longitude, and a station identifier\n",
        "carlisle['lat'] = 54.934\n",
        "carlisle['long'] = -2.962\n",
        "carlisle['station'] = 12"
      ],
      "metadata": {
        "id": "gJb4TZaNKHIS"
      },
      "execution_count": null,
      "outputs": []
    },
    {
      "cell_type": "code",
      "source": [
        "#-------- Warcop Range --------\n",
        "\n",
        "# load MIDAS temperature data from different years\n",
        "warcop_range_2022 = pd.read_csv('warcop-range_2022.csv', low_memory=False)\n",
        "warcop_range_2021 = pd.read_csv('warcop-range_2021.csv', low_memory=False)\n",
        "warcop_range_2020 = pd.read_csv('warcop-range_2020.csv', low_memory=False)\n",
        "warcop_range_2019 = pd.read_csv('warcop-range_2019.csv', low_memory=False)\n",
        "\n",
        "# apply preprocessing function to clean and summarise the data\n",
        "warcop_range_2022 = preprocess_hourly(warcop_range_2022)\n",
        "warcop_range_2021 = preprocess_hourly(warcop_range_2021)\n",
        "warcop_range_2020 = preprocess_hourly(warcop_range_2020)\n",
        "warcop_range_2019 = preprocess_hourly(warcop_range_2019)\n",
        "\n",
        "# combine the preprocessed data from all years into a single DataFrame\n",
        "warcop_range = pd.concat([warcop_range_2021, warcop_range_2022, warcop_range_2020, warcop_range_2019], ignore_index=True)\n",
        "\n",
        "# add columns for latitude, longitude, and a station identifier\n",
        "warcop_range['lat'] = 54.572\n",
        "warcop_range['long'] = -2.412\n",
        "warcop_range['station'] = 13"
      ],
      "metadata": {
        "id": "W2TBPSfpLmaD"
      },
      "execution_count": null,
      "outputs": []
    },
    {
      "cell_type": "code",
      "source": [
        "#-------- combine all stations' data--------\n",
        "temp = pd.concat([keswick, blencathra, bridgefoot, shap, levens_hall, walney_island, st_bees_head, great_dun_fell, maulds_meaburn, hazelrigg, carlisle, brampton, warcop_range], ignore_index=True)"
      ],
      "metadata": {
        "id": "Iep5ZZN2MC2u"
      },
      "execution_count": null,
      "outputs": []
    },
    {
      "cell_type": "code",
      "source": [
        "#-------- add seasons --------\n",
        "\n",
        "# function to classify months into seasons\n",
        "def season(date):\n",
        "    month = date.month\n",
        "    # spring: March, April, May\n",
        "    if month in [3, 4, 5]:\n",
        "        return 2\n",
        "    # summer: June, July, August\n",
        "    elif month in [6, 7, 8]:\n",
        "        return 3\n",
        "    # autumn: September, October, November\n",
        "    elif month in [9, 10, 11]:\n",
        "        return 4\n",
        "    # winter: December, January, February\n",
        "    else:\n",
        "        return 1\n",
        "\n",
        "# apply the 'season' function to the 'date' column of the DataFrame 'temp'\n",
        "# and create a new column 'season' that stores the season classification\n",
        "temp['season'] = temp['date'].apply(season)"
      ],
      "metadata": {
        "id": "-osnPspMS3DH"
      },
      "execution_count": null,
      "outputs": []
    },
    {
      "cell_type": "code",
      "source": [
        "# ------ add month and year --------\n",
        "\n",
        "# create new columns for month and year\n",
        "temp['month'] = temp['date'].dt.month\n",
        "temp['year'] = temp['date'].dt.year"
      ],
      "metadata": {
        "id": "7Oczs-xH-MZO"
      },
      "execution_count": null,
      "outputs": []
    },
    {
      "cell_type": "markdown",
      "source": [
        "# Missing Values"
      ],
      "metadata": {
        "id": "VUVRgnRI9t7c"
      }
    },
    {
      "cell_type": "code",
      "source": [
        "# check information from temp to explore missing values\n",
        "temp.info()         # shows 53 missing air temperature values"
      ],
      "metadata": {
        "colab": {
          "base_uri": "https://localhost:8080/"
        },
        "id": "s4xKU8z8S_xm",
        "outputId": "9f2097f2-6a0f-424f-8195-5d65931dab1b"
      },
      "execution_count": null,
      "outputs": [
        {
          "output_type": "stream",
          "name": "stdout",
          "text": [
            "<class 'pandas.core.frame.DataFrame'>\n",
            "RangeIndex: 18797 entries, 0 to 18796\n",
            "Data columns (total 8 columns):\n",
            " #   Column           Non-Null Count  Dtype         \n",
            "---  ------           --------------  -----         \n",
            " 0   date             18797 non-null  datetime64[ns]\n",
            " 1   air_temperature  18774 non-null  float64       \n",
            " 2   lat              18797 non-null  float64       \n",
            " 3   long             18797 non-null  float64       \n",
            " 4   station          18797 non-null  int64         \n",
            " 5   season           18797 non-null  int64         \n",
            " 6   month            18797 non-null  int32         \n",
            " 7   year             18797 non-null  int32         \n",
            "dtypes: datetime64[ns](1), float64(3), int32(2), int64(2)\n",
            "memory usage: 1.0 MB\n"
          ]
        }
      ]
    },
    {
      "cell_type": "code",
      "source": [
        "# look at air temperature missing values\n",
        "temp[temp['air_temperature'].isnull()]"
      ],
      "metadata": {
        "colab": {
          "base_uri": "https://localhost:8080/",
          "height": 770
        },
        "id": "SlU7N0DZTFHB",
        "outputId": "1652267d-bbb4-4aeb-e9e8-5640a11ef71e"
      },
      "execution_count": null,
      "outputs": [
        {
          "output_type": "execute_result",
          "data": {
            "text/plain": [
              "            date  air_temperature     lat   long  station  season  month  year\n",
              "967   2020-08-25              NaN  54.614 -3.155        1       3      8  2020\n",
              "968   2020-08-26              NaN  54.614 -3.155        1       3      8  2020\n",
              "969   2020-08-27              NaN  54.614 -3.155        1       3      8  2020\n",
              "970   2020-08-28              NaN  54.614 -3.155        1       3      8  2020\n",
              "971   2020-08-29              NaN  54.614 -3.155        1       3      8  2020\n",
              "972   2020-08-30              NaN  54.614 -3.155        1       3      8  2020\n",
              "973   2020-08-31              NaN  54.614 -3.155        1       3      8  2020\n",
              "974   2020-09-01              NaN  54.614 -3.155        1       4      9  2020\n",
              "975   2020-09-02              NaN  54.614 -3.155        1       4      9  2020\n",
              "976   2020-09-03              NaN  54.614 -3.155        1       4      9  2020\n",
              "977   2020-09-04              NaN  54.614 -3.155        1       4      9  2020\n",
              "978   2020-09-05              NaN  54.614 -3.155        1       4      9  2020\n",
              "979   2020-09-06              NaN  54.614 -3.155        1       4      9  2020\n",
              "980   2020-09-07              NaN  54.614 -3.155        1       4      9  2020\n",
              "981   2020-09-08              NaN  54.614 -3.155        1       4      9  2020\n",
              "982   2020-09-09              NaN  54.614 -3.155        1       4      9  2020\n",
              "983   2020-09-10              NaN  54.614 -3.155        1       4      9  2020\n",
              "6203  2022-01-09              NaN  54.259 -2.777        5       1      1  2022\n",
              "13219 2021-09-23              NaN  54.014 -2.774       10       4      9  2021\n",
              "13661 2022-12-09              NaN  54.014 -2.774       10       1     12  2022\n",
              "14286 2019-08-25              NaN  54.014 -2.774       10       3      8  2019\n",
              "16122 2021-09-05              NaN  54.935 -2.733       11       4      9  2021\n",
              "16993 2019-01-23              NaN  54.935 -2.733       11       1      1  2019"
            ],
            "text/html": [
              "\n",
              "  <div id=\"df-ce32d887-5041-40e7-a5fb-afa9e5c2db5f\" class=\"colab-df-container\">\n",
              "    <div>\n",
              "<style scoped>\n",
              "    .dataframe tbody tr th:only-of-type {\n",
              "        vertical-align: middle;\n",
              "    }\n",
              "\n",
              "    .dataframe tbody tr th {\n",
              "        vertical-align: top;\n",
              "    }\n",
              "\n",
              "    .dataframe thead th {\n",
              "        text-align: right;\n",
              "    }\n",
              "</style>\n",
              "<table border=\"1\" class=\"dataframe\">\n",
              "  <thead>\n",
              "    <tr style=\"text-align: right;\">\n",
              "      <th></th>\n",
              "      <th>date</th>\n",
              "      <th>air_temperature</th>\n",
              "      <th>lat</th>\n",
              "      <th>long</th>\n",
              "      <th>station</th>\n",
              "      <th>season</th>\n",
              "      <th>month</th>\n",
              "      <th>year</th>\n",
              "    </tr>\n",
              "  </thead>\n",
              "  <tbody>\n",
              "    <tr>\n",
              "      <th>967</th>\n",
              "      <td>2020-08-25</td>\n",
              "      <td>NaN</td>\n",
              "      <td>54.614</td>\n",
              "      <td>-3.155</td>\n",
              "      <td>1</td>\n",
              "      <td>3</td>\n",
              "      <td>8</td>\n",
              "      <td>2020</td>\n",
              "    </tr>\n",
              "    <tr>\n",
              "      <th>968</th>\n",
              "      <td>2020-08-26</td>\n",
              "      <td>NaN</td>\n",
              "      <td>54.614</td>\n",
              "      <td>-3.155</td>\n",
              "      <td>1</td>\n",
              "      <td>3</td>\n",
              "      <td>8</td>\n",
              "      <td>2020</td>\n",
              "    </tr>\n",
              "    <tr>\n",
              "      <th>969</th>\n",
              "      <td>2020-08-27</td>\n",
              "      <td>NaN</td>\n",
              "      <td>54.614</td>\n",
              "      <td>-3.155</td>\n",
              "      <td>1</td>\n",
              "      <td>3</td>\n",
              "      <td>8</td>\n",
              "      <td>2020</td>\n",
              "    </tr>\n",
              "    <tr>\n",
              "      <th>970</th>\n",
              "      <td>2020-08-28</td>\n",
              "      <td>NaN</td>\n",
              "      <td>54.614</td>\n",
              "      <td>-3.155</td>\n",
              "      <td>1</td>\n",
              "      <td>3</td>\n",
              "      <td>8</td>\n",
              "      <td>2020</td>\n",
              "    </tr>\n",
              "    <tr>\n",
              "      <th>971</th>\n",
              "      <td>2020-08-29</td>\n",
              "      <td>NaN</td>\n",
              "      <td>54.614</td>\n",
              "      <td>-3.155</td>\n",
              "      <td>1</td>\n",
              "      <td>3</td>\n",
              "      <td>8</td>\n",
              "      <td>2020</td>\n",
              "    </tr>\n",
              "    <tr>\n",
              "      <th>972</th>\n",
              "      <td>2020-08-30</td>\n",
              "      <td>NaN</td>\n",
              "      <td>54.614</td>\n",
              "      <td>-3.155</td>\n",
              "      <td>1</td>\n",
              "      <td>3</td>\n",
              "      <td>8</td>\n",
              "      <td>2020</td>\n",
              "    </tr>\n",
              "    <tr>\n",
              "      <th>973</th>\n",
              "      <td>2020-08-31</td>\n",
              "      <td>NaN</td>\n",
              "      <td>54.614</td>\n",
              "      <td>-3.155</td>\n",
              "      <td>1</td>\n",
              "      <td>3</td>\n",
              "      <td>8</td>\n",
              "      <td>2020</td>\n",
              "    </tr>\n",
              "    <tr>\n",
              "      <th>974</th>\n",
              "      <td>2020-09-01</td>\n",
              "      <td>NaN</td>\n",
              "      <td>54.614</td>\n",
              "      <td>-3.155</td>\n",
              "      <td>1</td>\n",
              "      <td>4</td>\n",
              "      <td>9</td>\n",
              "      <td>2020</td>\n",
              "    </tr>\n",
              "    <tr>\n",
              "      <th>975</th>\n",
              "      <td>2020-09-02</td>\n",
              "      <td>NaN</td>\n",
              "      <td>54.614</td>\n",
              "      <td>-3.155</td>\n",
              "      <td>1</td>\n",
              "      <td>4</td>\n",
              "      <td>9</td>\n",
              "      <td>2020</td>\n",
              "    </tr>\n",
              "    <tr>\n",
              "      <th>976</th>\n",
              "      <td>2020-09-03</td>\n",
              "      <td>NaN</td>\n",
              "      <td>54.614</td>\n",
              "      <td>-3.155</td>\n",
              "      <td>1</td>\n",
              "      <td>4</td>\n",
              "      <td>9</td>\n",
              "      <td>2020</td>\n",
              "    </tr>\n",
              "    <tr>\n",
              "      <th>977</th>\n",
              "      <td>2020-09-04</td>\n",
              "      <td>NaN</td>\n",
              "      <td>54.614</td>\n",
              "      <td>-3.155</td>\n",
              "      <td>1</td>\n",
              "      <td>4</td>\n",
              "      <td>9</td>\n",
              "      <td>2020</td>\n",
              "    </tr>\n",
              "    <tr>\n",
              "      <th>978</th>\n",
              "      <td>2020-09-05</td>\n",
              "      <td>NaN</td>\n",
              "      <td>54.614</td>\n",
              "      <td>-3.155</td>\n",
              "      <td>1</td>\n",
              "      <td>4</td>\n",
              "      <td>9</td>\n",
              "      <td>2020</td>\n",
              "    </tr>\n",
              "    <tr>\n",
              "      <th>979</th>\n",
              "      <td>2020-09-06</td>\n",
              "      <td>NaN</td>\n",
              "      <td>54.614</td>\n",
              "      <td>-3.155</td>\n",
              "      <td>1</td>\n",
              "      <td>4</td>\n",
              "      <td>9</td>\n",
              "      <td>2020</td>\n",
              "    </tr>\n",
              "    <tr>\n",
              "      <th>980</th>\n",
              "      <td>2020-09-07</td>\n",
              "      <td>NaN</td>\n",
              "      <td>54.614</td>\n",
              "      <td>-3.155</td>\n",
              "      <td>1</td>\n",
              "      <td>4</td>\n",
              "      <td>9</td>\n",
              "      <td>2020</td>\n",
              "    </tr>\n",
              "    <tr>\n",
              "      <th>981</th>\n",
              "      <td>2020-09-08</td>\n",
              "      <td>NaN</td>\n",
              "      <td>54.614</td>\n",
              "      <td>-3.155</td>\n",
              "      <td>1</td>\n",
              "      <td>4</td>\n",
              "      <td>9</td>\n",
              "      <td>2020</td>\n",
              "    </tr>\n",
              "    <tr>\n",
              "      <th>982</th>\n",
              "      <td>2020-09-09</td>\n",
              "      <td>NaN</td>\n",
              "      <td>54.614</td>\n",
              "      <td>-3.155</td>\n",
              "      <td>1</td>\n",
              "      <td>4</td>\n",
              "      <td>9</td>\n",
              "      <td>2020</td>\n",
              "    </tr>\n",
              "    <tr>\n",
              "      <th>983</th>\n",
              "      <td>2020-09-10</td>\n",
              "      <td>NaN</td>\n",
              "      <td>54.614</td>\n",
              "      <td>-3.155</td>\n",
              "      <td>1</td>\n",
              "      <td>4</td>\n",
              "      <td>9</td>\n",
              "      <td>2020</td>\n",
              "    </tr>\n",
              "    <tr>\n",
              "      <th>6203</th>\n",
              "      <td>2022-01-09</td>\n",
              "      <td>NaN</td>\n",
              "      <td>54.259</td>\n",
              "      <td>-2.777</td>\n",
              "      <td>5</td>\n",
              "      <td>1</td>\n",
              "      <td>1</td>\n",
              "      <td>2022</td>\n",
              "    </tr>\n",
              "    <tr>\n",
              "      <th>13219</th>\n",
              "      <td>2021-09-23</td>\n",
              "      <td>NaN</td>\n",
              "      <td>54.014</td>\n",
              "      <td>-2.774</td>\n",
              "      <td>10</td>\n",
              "      <td>4</td>\n",
              "      <td>9</td>\n",
              "      <td>2021</td>\n",
              "    </tr>\n",
              "    <tr>\n",
              "      <th>13661</th>\n",
              "      <td>2022-12-09</td>\n",
              "      <td>NaN</td>\n",
              "      <td>54.014</td>\n",
              "      <td>-2.774</td>\n",
              "      <td>10</td>\n",
              "      <td>1</td>\n",
              "      <td>12</td>\n",
              "      <td>2022</td>\n",
              "    </tr>\n",
              "    <tr>\n",
              "      <th>14286</th>\n",
              "      <td>2019-08-25</td>\n",
              "      <td>NaN</td>\n",
              "      <td>54.014</td>\n",
              "      <td>-2.774</td>\n",
              "      <td>10</td>\n",
              "      <td>3</td>\n",
              "      <td>8</td>\n",
              "      <td>2019</td>\n",
              "    </tr>\n",
              "    <tr>\n",
              "      <th>16122</th>\n",
              "      <td>2021-09-05</td>\n",
              "      <td>NaN</td>\n",
              "      <td>54.935</td>\n",
              "      <td>-2.733</td>\n",
              "      <td>11</td>\n",
              "      <td>4</td>\n",
              "      <td>9</td>\n",
              "      <td>2021</td>\n",
              "    </tr>\n",
              "    <tr>\n",
              "      <th>16993</th>\n",
              "      <td>2019-01-23</td>\n",
              "      <td>NaN</td>\n",
              "      <td>54.935</td>\n",
              "      <td>-2.733</td>\n",
              "      <td>11</td>\n",
              "      <td>1</td>\n",
              "      <td>1</td>\n",
              "      <td>2019</td>\n",
              "    </tr>\n",
              "  </tbody>\n",
              "</table>\n",
              "</div>\n",
              "    <div class=\"colab-df-buttons\">\n",
              "\n",
              "  <div class=\"colab-df-container\">\n",
              "    <button class=\"colab-df-convert\" onclick=\"convertToInteractive('df-ce32d887-5041-40e7-a5fb-afa9e5c2db5f')\"\n",
              "            title=\"Convert this dataframe to an interactive table.\"\n",
              "            style=\"display:none;\">\n",
              "\n",
              "  <svg xmlns=\"http://www.w3.org/2000/svg\" height=\"24px\" viewBox=\"0 -960 960 960\">\n",
              "    <path d=\"M120-120v-720h720v720H120Zm60-500h600v-160H180v160Zm220 220h160v-160H400v160Zm0 220h160v-160H400v160ZM180-400h160v-160H180v160Zm440 0h160v-160H620v160ZM180-180h160v-160H180v160Zm440 0h160v-160H620v160Z\"/>\n",
              "  </svg>\n",
              "    </button>\n",
              "\n",
              "  <style>\n",
              "    .colab-df-container {\n",
              "      display:flex;\n",
              "      gap: 12px;\n",
              "    }\n",
              "\n",
              "    .colab-df-convert {\n",
              "      background-color: #E8F0FE;\n",
              "      border: none;\n",
              "      border-radius: 50%;\n",
              "      cursor: pointer;\n",
              "      display: none;\n",
              "      fill: #1967D2;\n",
              "      height: 32px;\n",
              "      padding: 0 0 0 0;\n",
              "      width: 32px;\n",
              "    }\n",
              "\n",
              "    .colab-df-convert:hover {\n",
              "      background-color: #E2EBFA;\n",
              "      box-shadow: 0px 1px 2px rgba(60, 64, 67, 0.3), 0px 1px 3px 1px rgba(60, 64, 67, 0.15);\n",
              "      fill: #174EA6;\n",
              "    }\n",
              "\n",
              "    .colab-df-buttons div {\n",
              "      margin-bottom: 4px;\n",
              "    }\n",
              "\n",
              "    [theme=dark] .colab-df-convert {\n",
              "      background-color: #3B4455;\n",
              "      fill: #D2E3FC;\n",
              "    }\n",
              "\n",
              "    [theme=dark] .colab-df-convert:hover {\n",
              "      background-color: #434B5C;\n",
              "      box-shadow: 0px 1px 3px 1px rgba(0, 0, 0, 0.15);\n",
              "      filter: drop-shadow(0px 1px 2px rgba(0, 0, 0, 0.3));\n",
              "      fill: #FFFFFF;\n",
              "    }\n",
              "  </style>\n",
              "\n",
              "    <script>\n",
              "      const buttonEl =\n",
              "        document.querySelector('#df-ce32d887-5041-40e7-a5fb-afa9e5c2db5f button.colab-df-convert');\n",
              "      buttonEl.style.display =\n",
              "        google.colab.kernel.accessAllowed ? 'block' : 'none';\n",
              "\n",
              "      async function convertToInteractive(key) {\n",
              "        const element = document.querySelector('#df-ce32d887-5041-40e7-a5fb-afa9e5c2db5f');\n",
              "        const dataTable =\n",
              "          await google.colab.kernel.invokeFunction('convertToInteractive',\n",
              "                                                    [key], {});\n",
              "        if (!dataTable) return;\n",
              "\n",
              "        const docLinkHtml = 'Like what you see? Visit the ' +\n",
              "          '<a target=\"_blank\" href=https://colab.research.google.com/notebooks/data_table.ipynb>data table notebook</a>'\n",
              "          + ' to learn more about interactive tables.';\n",
              "        element.innerHTML = '';\n",
              "        dataTable['output_type'] = 'display_data';\n",
              "        await google.colab.output.renderOutput(dataTable, element);\n",
              "        const docLink = document.createElement('div');\n",
              "        docLink.innerHTML = docLinkHtml;\n",
              "        element.appendChild(docLink);\n",
              "      }\n",
              "    </script>\n",
              "  </div>\n",
              "\n",
              "\n",
              "<div id=\"df-85deb03c-c5d6-4825-8845-e5ad722eee56\">\n",
              "  <button class=\"colab-df-quickchart\" onclick=\"quickchart('df-85deb03c-c5d6-4825-8845-e5ad722eee56')\"\n",
              "            title=\"Suggest charts\"\n",
              "            style=\"display:none;\">\n",
              "\n",
              "<svg xmlns=\"http://www.w3.org/2000/svg\" height=\"24px\"viewBox=\"0 0 24 24\"\n",
              "     width=\"24px\">\n",
              "    <g>\n",
              "        <path d=\"M19 3H5c-1.1 0-2 .9-2 2v14c0 1.1.9 2 2 2h14c1.1 0 2-.9 2-2V5c0-1.1-.9-2-2-2zM9 17H7v-7h2v7zm4 0h-2V7h2v10zm4 0h-2v-4h2v4z\"/>\n",
              "    </g>\n",
              "</svg>\n",
              "  </button>\n",
              "\n",
              "<style>\n",
              "  .colab-df-quickchart {\n",
              "      --bg-color: #E8F0FE;\n",
              "      --fill-color: #1967D2;\n",
              "      --hover-bg-color: #E2EBFA;\n",
              "      --hover-fill-color: #174EA6;\n",
              "      --disabled-fill-color: #AAA;\n",
              "      --disabled-bg-color: #DDD;\n",
              "  }\n",
              "\n",
              "  [theme=dark] .colab-df-quickchart {\n",
              "      --bg-color: #3B4455;\n",
              "      --fill-color: #D2E3FC;\n",
              "      --hover-bg-color: #434B5C;\n",
              "      --hover-fill-color: #FFFFFF;\n",
              "      --disabled-bg-color: #3B4455;\n",
              "      --disabled-fill-color: #666;\n",
              "  }\n",
              "\n",
              "  .colab-df-quickchart {\n",
              "    background-color: var(--bg-color);\n",
              "    border: none;\n",
              "    border-radius: 50%;\n",
              "    cursor: pointer;\n",
              "    display: none;\n",
              "    fill: var(--fill-color);\n",
              "    height: 32px;\n",
              "    padding: 0;\n",
              "    width: 32px;\n",
              "  }\n",
              "\n",
              "  .colab-df-quickchart:hover {\n",
              "    background-color: var(--hover-bg-color);\n",
              "    box-shadow: 0 1px 2px rgba(60, 64, 67, 0.3), 0 1px 3px 1px rgba(60, 64, 67, 0.15);\n",
              "    fill: var(--button-hover-fill-color);\n",
              "  }\n",
              "\n",
              "  .colab-df-quickchart-complete:disabled,\n",
              "  .colab-df-quickchart-complete:disabled:hover {\n",
              "    background-color: var(--disabled-bg-color);\n",
              "    fill: var(--disabled-fill-color);\n",
              "    box-shadow: none;\n",
              "  }\n",
              "\n",
              "  .colab-df-spinner {\n",
              "    border: 2px solid var(--fill-color);\n",
              "    border-color: transparent;\n",
              "    border-bottom-color: var(--fill-color);\n",
              "    animation:\n",
              "      spin 1s steps(1) infinite;\n",
              "  }\n",
              "\n",
              "  @keyframes spin {\n",
              "    0% {\n",
              "      border-color: transparent;\n",
              "      border-bottom-color: var(--fill-color);\n",
              "      border-left-color: var(--fill-color);\n",
              "    }\n",
              "    20% {\n",
              "      border-color: transparent;\n",
              "      border-left-color: var(--fill-color);\n",
              "      border-top-color: var(--fill-color);\n",
              "    }\n",
              "    30% {\n",
              "      border-color: transparent;\n",
              "      border-left-color: var(--fill-color);\n",
              "      border-top-color: var(--fill-color);\n",
              "      border-right-color: var(--fill-color);\n",
              "    }\n",
              "    40% {\n",
              "      border-color: transparent;\n",
              "      border-right-color: var(--fill-color);\n",
              "      border-top-color: var(--fill-color);\n",
              "    }\n",
              "    60% {\n",
              "      border-color: transparent;\n",
              "      border-right-color: var(--fill-color);\n",
              "    }\n",
              "    80% {\n",
              "      border-color: transparent;\n",
              "      border-right-color: var(--fill-color);\n",
              "      border-bottom-color: var(--fill-color);\n",
              "    }\n",
              "    90% {\n",
              "      border-color: transparent;\n",
              "      border-bottom-color: var(--fill-color);\n",
              "    }\n",
              "  }\n",
              "</style>\n",
              "\n",
              "  <script>\n",
              "    async function quickchart(key) {\n",
              "      const quickchartButtonEl =\n",
              "        document.querySelector('#' + key + ' button');\n",
              "      quickchartButtonEl.disabled = true;  // To prevent multiple clicks.\n",
              "      quickchartButtonEl.classList.add('colab-df-spinner');\n",
              "      try {\n",
              "        const charts = await google.colab.kernel.invokeFunction(\n",
              "            'suggestCharts', [key], {});\n",
              "      } catch (error) {\n",
              "        console.error('Error during call to suggestCharts:', error);\n",
              "      }\n",
              "      quickchartButtonEl.classList.remove('colab-df-spinner');\n",
              "      quickchartButtonEl.classList.add('colab-df-quickchart-complete');\n",
              "    }\n",
              "    (() => {\n",
              "      let quickchartButtonEl =\n",
              "        document.querySelector('#df-85deb03c-c5d6-4825-8845-e5ad722eee56 button');\n",
              "      quickchartButtonEl.style.display =\n",
              "        google.colab.kernel.accessAllowed ? 'block' : 'none';\n",
              "    })();\n",
              "  </script>\n",
              "</div>\n",
              "\n",
              "    </div>\n",
              "  </div>\n"
            ],
            "application/vnd.google.colaboratory.intrinsic+json": {
              "type": "dataframe",
              "summary": "{\n  \"name\": \"temp[temp['air_temperature']\",\n  \"rows\": 23,\n  \"fields\": [\n    {\n      \"column\": \"date\",\n      \"properties\": {\n        \"dtype\": \"date\",\n        \"min\": \"2019-01-23 00:00:00\",\n        \"max\": \"2022-12-09 00:00:00\",\n        \"num_unique_values\": 23,\n        \"samples\": [\n          \"2020-09-09 00:00:00\",\n          \"2020-09-03 00:00:00\",\n          \"2020-08-25 00:00:00\"\n        ],\n        \"semantic_type\": \"\",\n        \"description\": \"\"\n      }\n    },\n    {\n      \"column\": \"air_temperature\",\n      \"properties\": {\n        \"dtype\": \"number\",\n        \"std\": null,\n        \"min\": null,\n        \"max\": null,\n        \"num_unique_values\": 0,\n        \"samples\": [],\n        \"semantic_type\": \"\",\n        \"description\": \"\"\n      }\n    },\n    {\n      \"column\": \"lat\",\n      \"properties\": {\n        \"dtype\": \"number\",\n        \"std\": 0.24425935480768515,\n        \"min\": 54.014,\n        \"max\": 54.935,\n        \"num_unique_values\": 4,\n        \"samples\": [],\n        \"semantic_type\": \"\",\n        \"description\": \"\"\n      }\n    },\n    {\n      \"column\": \"long\",\n      \"properties\": {\n        \"dtype\": \"number\",\n        \"std\": 0.17727114623800883,\n        \"min\": -3.155,\n        \"max\": -2.733,\n        \"num_unique_values\": 4,\n        \"samples\": [],\n        \"semantic_type\": \"\",\n        \"description\": \"\"\n      }\n    },\n    {\n      \"column\": \"station\",\n      \"properties\": {\n        \"dtype\": \"number\",\n        \"std\": 3,\n        \"min\": 1,\n        \"max\": 11,\n        \"num_unique_values\": 4,\n        \"samples\": [],\n        \"semantic_type\": \"\",\n        \"description\": \"\"\n      }\n    },\n    {\n      \"column\": \"season\",\n      \"properties\": {\n        \"dtype\": \"number\",\n        \"std\": 1,\n        \"min\": 1,\n        \"max\": 4,\n        \"num_unique_values\": 3,\n        \"samples\": [],\n        \"semantic_type\": \"\",\n        \"description\": \"\"\n      }\n    },\n    {\n      \"column\": \"month\",\n      \"properties\": {\n        \"dtype\": \"int32\",\n        \"num_unique_values\": 4,\n        \"samples\": [],\n        \"semantic_type\": \"\",\n        \"description\": \"\"\n      }\n    },\n    {\n      \"column\": \"year\",\n      \"properties\": {\n        \"dtype\": \"int32\",\n        \"num_unique_values\": 4,\n        \"samples\": [],\n        \"semantic_type\": \"\",\n        \"description\": \"\"\n      }\n    }\n  ]\n}"
            }
          },
          "metadata": {},
          "execution_count": 27
        }
      ]
    },
    {
      "cell_type": "code",
      "source": [
        "# conditions to filter the temp dataframe where the missing values occur\n",
        "\n",
        "# station filters\n",
        "station_1 = temp['station'] == 1\n",
        "station_5 = temp['station'] == 5\n",
        "station_10 = temp['station'] == 10\n",
        "station_11 = temp['station'] == 11\n",
        "\n",
        "# season filters\n",
        "season_1 = temp['season'] == 1\n",
        "season_3 = temp['season'] == 3\n",
        "season_4 = temp['season'] == 4\n",
        "\n",
        "# combinations of station and season conditions where there are missing values\n",
        "condition_1 = station_1 & season_3\n",
        "condition_2 = station_1 & season_4\n",
        "condition_3 = station_5 & season_1\n",
        "condition_4 = station_10 & season_4\n",
        "condition_5 = station_10 & season_1\n",
        "condition_6 = station_10 & season_3\n",
        "condition_7 = station_11 & season_4\n",
        "condition_8 = station_11 & season_1\n",
        "\n",
        "# filter the dataframe to create subsets of the data for each condition\n",
        "filtered_data_1 = temp[condition_1]\n",
        "filtered_data_2 = temp[condition_2]\n",
        "filtered_data_3 = temp[condition_3]\n",
        "filtered_data_4 = temp[condition_4]\n",
        "filtered_data_5 = temp[condition_5]\n",
        "filtered_data_6 = temp[condition_6]\n",
        "filtered_data_7 = temp[condition_7]\n",
        "filtered_data_8 = temp[condition_8]"
      ],
      "metadata": {
        "id": "aehyMDfLTNSV"
      },
      "execution_count": null,
      "outputs": []
    },
    {
      "cell_type": "code",
      "source": [
        "# explore the distribution for season 3 at station 1\n",
        "plt.hist(filtered_data_1['air_temperature'], bins=10, edgecolor='black')\n",
        "filtered_data_1['air_temperature'].describe()"
      ],
      "metadata": {
        "colab": {
          "base_uri": "https://localhost:8080/",
          "height": 748
        },
        "id": "T5g2mOMuUa28",
        "outputId": "6f12e55e-c96c-45d6-b21a-7994a3fc56ec"
      },
      "execution_count": null,
      "outputs": [
        {
          "output_type": "execute_result",
          "data": {
            "text/plain": [
              "count    361.000000\n",
              "mean      15.493213\n",
              "std        2.464920\n",
              "min        9.380000\n",
              "25%       13.890000\n",
              "50%       15.150000\n",
              "75%       16.790000\n",
              "max       25.440000\n",
              "Name: air_temperature, dtype: float64"
            ],
            "text/html": [
              "<div>\n",
              "<style scoped>\n",
              "    .dataframe tbody tr th:only-of-type {\n",
              "        vertical-align: middle;\n",
              "    }\n",
              "\n",
              "    .dataframe tbody tr th {\n",
              "        vertical-align: top;\n",
              "    }\n",
              "\n",
              "    .dataframe thead th {\n",
              "        text-align: right;\n",
              "    }\n",
              "</style>\n",
              "<table border=\"1\" class=\"dataframe\">\n",
              "  <thead>\n",
              "    <tr style=\"text-align: right;\">\n",
              "      <th></th>\n",
              "      <th>air_temperature</th>\n",
              "    </tr>\n",
              "  </thead>\n",
              "  <tbody>\n",
              "    <tr>\n",
              "      <th>count</th>\n",
              "      <td>361.000000</td>\n",
              "    </tr>\n",
              "    <tr>\n",
              "      <th>mean</th>\n",
              "      <td>15.493213</td>\n",
              "    </tr>\n",
              "    <tr>\n",
              "      <th>std</th>\n",
              "      <td>2.464920</td>\n",
              "    </tr>\n",
              "    <tr>\n",
              "      <th>min</th>\n",
              "      <td>9.380000</td>\n",
              "    </tr>\n",
              "    <tr>\n",
              "      <th>25%</th>\n",
              "      <td>13.890000</td>\n",
              "    </tr>\n",
              "    <tr>\n",
              "      <th>50%</th>\n",
              "      <td>15.150000</td>\n",
              "    </tr>\n",
              "    <tr>\n",
              "      <th>75%</th>\n",
              "      <td>16.790000</td>\n",
              "    </tr>\n",
              "    <tr>\n",
              "      <th>max</th>\n",
              "      <td>25.440000</td>\n",
              "    </tr>\n",
              "  </tbody>\n",
              "</table>\n",
              "</div><br><label><b>dtype:</b> float64</label>"
            ]
          },
          "metadata": {},
          "execution_count": 29
        },
        {
          "output_type": "display_data",
          "data": {
            "text/plain": [
              "<Figure size 640x480 with 1 Axes>"
            ],
            "image/png": "[encoded data removed]"
          },
          "metadata": {}
        }
      ]
    },
    {
      "cell_type": "code",
      "source": [
        "# negatively skewed - replace missing values with the median - 15.15\n",
        "temp.loc[condition_1, 'air_temperature'] = temp.loc[condition_1, 'air_temperature'].fillna(15.15)"
      ],
      "metadata": {
        "id": "5OB7LAdQUh8t"
      },
      "execution_count": null,
      "outputs": []
    },
    {
      "cell_type": "code",
      "source": [
        "# explore the distribution for season 4 at station 1\n",
        "plt.hist(filtered_data_2['air_temperature'], bins=10, edgecolor='black')\n",
        "filtered_data_2['air_temperature'].describe()"
      ],
      "metadata": {
        "colab": {
          "base_uri": "https://localhost:8080/",
          "height": 748
        },
        "id": "i0hId8GsUsxa",
        "outputId": "15dadf5f-579c-4711-e321-b2bbda501be7"
      },
      "execution_count": null,
      "outputs": [
        {
          "output_type": "execute_result",
          "data": {
            "text/plain": [
              "count    354.000000\n",
              "mean      10.567316\n",
              "std        3.618291\n",
              "min       -1.400000\n",
              "25%        8.542500\n",
              "50%       10.745000\n",
              "75%       13.037500\n",
              "max       20.620000\n",
              "Name: air_temperature, dtype: float64"
            ],
            "text/html": [
              "<div>\n",
              "<style scoped>\n",
              "    .dataframe tbody tr th:only-of-type {\n",
              "        vertical-align: middle;\n",
              "    }\n",
              "\n",
              "    .dataframe tbody tr th {\n",
              "        vertical-align: top;\n",
              "    }\n",
              "\n",
              "    .dataframe thead th {\n",
              "        text-align: right;\n",
              "    }\n",
              "</style>\n",
              "<table border=\"1\" class=\"dataframe\">\n",
              "  <thead>\n",
              "    <tr style=\"text-align: right;\">\n",
              "      <th></th>\n",
              "      <th>air_temperature</th>\n",
              "    </tr>\n",
              "  </thead>\n",
              "  <tbody>\n",
              "    <tr>\n",
              "      <th>count</th>\n",
              "      <td>354.000000</td>\n",
              "    </tr>\n",
              "    <tr>\n",
              "      <th>mean</th>\n",
              "      <td>10.567316</td>\n",
              "    </tr>\n",
              "    <tr>\n",
              "      <th>std</th>\n",
              "      <td>3.618291</td>\n",
              "    </tr>\n",
              "    <tr>\n",
              "      <th>min</th>\n",
              "      <td>-1.400000</td>\n",
              "    </tr>\n",
              "    <tr>\n",
              "      <th>25%</th>\n",
              "      <td>8.542500</td>\n",
              "    </tr>\n",
              "    <tr>\n",
              "      <th>50%</th>\n",
              "      <td>10.745000</td>\n",
              "    </tr>\n",
              "    <tr>\n",
              "      <th>75%</th>\n",
              "      <td>13.037500</td>\n",
              "    </tr>\n",
              "    <tr>\n",
              "      <th>max</th>\n",
              "      <td>20.620000</td>\n",
              "    </tr>\n",
              "  </tbody>\n",
              "</table>\n",
              "</div><br><label><b>dtype:</b> float64</label>"
            ]
          },
          "metadata": {},
          "execution_count": 31
        },
        {
          "output_type": "display_data",
          "data": {
            "text/plain": [
              "<Figure size 640x480 with 1 Axes>"
            ],
            "image/png": "[encoded data removed]"
          },
          "metadata": {}
        }
      ]
    },
    {
      "cell_type": "code",
      "source": [
        "# positively skewed - replace missing values with the median - 10.745\n",
        "temp.loc[condition_2, 'air_temperature'] = temp.loc[condition_2, 'air_temperature'].fillna(10.745)"
      ],
      "metadata": {
        "id": "JIDNdOnNU0Xz"
      },
      "execution_count": null,
      "outputs": []
    },
    {
      "cell_type": "code",
      "source": [
        "# explore the distribution for season 1 at station 5\n",
        "plt.hist(filtered_data_3['air_temperature'], bins=10, edgecolor='black')\n",
        "filtered_data_3['air_temperature'].describe()"
      ],
      "metadata": {
        "colab": {
          "base_uri": "https://localhost:8080/",
          "height": 748
        },
        "id": "uOwaQM_iVPgP",
        "outputId": "af77add7-6628-493c-c872-e9120144d7ab"
      },
      "execution_count": null,
      "outputs": [
        {
          "output_type": "execute_result",
          "data": {
            "text/plain": [
              "count    360.000000\n",
              "mean       4.897528\n",
              "std        3.283633\n",
              "min       -7.670000\n",
              "25%        3.017500\n",
              "50%        5.495000\n",
              "75%        7.292500\n",
              "max       12.040000\n",
              "Name: air_temperature, dtype: float64"
            ],
            "text/html": [
              "<div>\n",
              "<style scoped>\n",
              "    .dataframe tbody tr th:only-of-type {\n",
              "        vertical-align: middle;\n",
              "    }\n",
              "\n",
              "    .dataframe tbody tr th {\n",
              "        vertical-align: top;\n",
              "    }\n",
              "\n",
              "    .dataframe thead th {\n",
              "        text-align: right;\n",
              "    }\n",
              "</style>\n",
              "<table border=\"1\" class=\"dataframe\">\n",
              "  <thead>\n",
              "    <tr style=\"text-align: right;\">\n",
              "      <th></th>\n",
              "      <th>air_temperature</th>\n",
              "    </tr>\n",
              "  </thead>\n",
              "  <tbody>\n",
              "    <tr>\n",
              "      <th>count</th>\n",
              "      <td>360.000000</td>\n",
              "    </tr>\n",
              "    <tr>\n",
              "      <th>mean</th>\n",
              "      <td>4.897528</td>\n",
              "    </tr>\n",
              "    <tr>\n",
              "      <th>std</th>\n",
              "      <td>3.283633</td>\n",
              "    </tr>\n",
              "    <tr>\n",
              "      <th>min</th>\n",
              "      <td>-7.670000</td>\n",
              "    </tr>\n",
              "    <tr>\n",
              "      <th>25%</th>\n",
              "      <td>3.017500</td>\n",
              "    </tr>\n",
              "    <tr>\n",
              "      <th>50%</th>\n",
              "      <td>5.495000</td>\n",
              "    </tr>\n",
              "    <tr>\n",
              "      <th>75%</th>\n",
              "      <td>7.292500</td>\n",
              "    </tr>\n",
              "    <tr>\n",
              "      <th>max</th>\n",
              "      <td>12.040000</td>\n",
              "    </tr>\n",
              "  </tbody>\n",
              "</table>\n",
              "</div><br><label><b>dtype:</b> float64</label>"
            ]
          },
          "metadata": {},
          "execution_count": 33
        },
        {
          "output_type": "display_data",
          "data": {
            "text/plain": [
              "<Figure size 640x480 with 1 Axes>"
            ],
            "image/png": "[encoded data removed]"
          },
          "metadata": {}
        }
      ]
    },
    {
      "cell_type": "code",
      "source": [
        "# positively skewed - replace missing values with the median - 5.495\n",
        "temp.loc[condition_3, 'air_temperature'] = temp.loc[condition_3, 'air_temperature'].fillna(5.495)"
      ],
      "metadata": {
        "id": "tNUv0AK3VWtu"
      },
      "execution_count": null,
      "outputs": []
    },
    {
      "cell_type": "code",
      "source": [
        "# explore the distribution for season 4 at station 10\n",
        "plt.hist(filtered_data_4['air_temperature'], bins=10, edgecolor='black')\n",
        "filtered_data_4['air_temperature'].describe()"
      ],
      "metadata": {
        "colab": {
          "base_uri": "https://localhost:8080/",
          "height": 750
        },
        "id": "wzcXZNitVeqh",
        "outputId": "7dd08455-8c9e-45f9-e6e3-f43de78f0a9d"
      },
      "execution_count": null,
      "outputs": [
        {
          "output_type": "execute_result",
          "data": {
            "text/plain": [
              "count    362.000000\n",
              "mean      10.776243\n",
              "std        3.666172\n",
              "min       -1.300000\n",
              "25%        8.600000\n",
              "50%       10.700000\n",
              "75%       13.300000\n",
              "max       23.500000\n",
              "Name: air_temperature, dtype: float64"
            ],
            "text/html": [
              "<div>\n",
              "<style scoped>\n",
              "    .dataframe tbody tr th:only-of-type {\n",
              "        vertical-align: middle;\n",
              "    }\n",
              "\n",
              "    .dataframe tbody tr th {\n",
              "        vertical-align: top;\n",
              "    }\n",
              "\n",
              "    .dataframe thead th {\n",
              "        text-align: right;\n",
              "    }\n",
              "</style>\n",
              "<table border=\"1\" class=\"dataframe\">\n",
              "  <thead>\n",
              "    <tr style=\"text-align: right;\">\n",
              "      <th></th>\n",
              "      <th>air_temperature</th>\n",
              "    </tr>\n",
              "  </thead>\n",
              "  <tbody>\n",
              "    <tr>\n",
              "      <th>count</th>\n",
              "      <td>362.000000</td>\n",
              "    </tr>\n",
              "    <tr>\n",
              "      <th>mean</th>\n",
              "      <td>10.776243</td>\n",
              "    </tr>\n",
              "    <tr>\n",
              "      <th>std</th>\n",
              "      <td>3.666172</td>\n",
              "    </tr>\n",
              "    <tr>\n",
              "      <th>min</th>\n",
              "      <td>-1.300000</td>\n",
              "    </tr>\n",
              "    <tr>\n",
              "      <th>25%</th>\n",
              "      <td>8.600000</td>\n",
              "    </tr>\n",
              "    <tr>\n",
              "      <th>50%</th>\n",
              "      <td>10.700000</td>\n",
              "    </tr>\n",
              "    <tr>\n",
              "      <th>75%</th>\n",
              "      <td>13.300000</td>\n",
              "    </tr>\n",
              "    <tr>\n",
              "      <th>max</th>\n",
              "      <td>23.500000</td>\n",
              "    </tr>\n",
              "  </tbody>\n",
              "</table>\n",
              "</div><br><label><b>dtype:</b> float64</label>"
            ]
          },
          "metadata": {},
          "execution_count": 35
        },
        {
          "output_type": "display_data",
          "data": {
            "text/plain": [
              "<Figure size 640x480 with 1 Axes>"
            ],
            "image/png": "[encoded data removed]"
          },
          "metadata": {}
        }
      ]
    },
    {
      "cell_type": "code",
      "source": [
        "# normally distributed - replace missing values with the mean - 10.776\n",
        "temp.loc[condition_4, 'air_temperature'] = temp.loc[condition_4, 'air_temperature'].fillna(10.776)"
      ],
      "metadata": {
        "id": "VkJdIIeHVoio"
      },
      "execution_count": null,
      "outputs": []
    },
    {
      "cell_type": "code",
      "source": [
        "# explore the distribution for season 1 at station 10\n",
        "plt.hist(filtered_data_5['air_temperature'], bins=10, edgecolor='black')\n",
        "filtered_data_5['air_temperature'].describe()"
      ],
      "metadata": {
        "colab": {
          "base_uri": "https://localhost:8080/",
          "height": 748
        },
        "id": "-FFxkz1sVw9E",
        "outputId": "b78e1e8d-5508-46dc-c0fd-387d495f5ba0"
      },
      "execution_count": null,
      "outputs": [
        {
          "output_type": "execute_result",
          "data": {
            "text/plain": [
              "count    360.000000\n",
              "mean       4.891389\n",
              "std        3.023908\n",
              "min       -5.700000\n",
              "25%        2.975000\n",
              "50%        5.300000\n",
              "75%        6.900000\n",
              "max       12.900000\n",
              "Name: air_temperature, dtype: float64"
            ],
            "text/html": [
              "<div>\n",
              "<style scoped>\n",
              "    .dataframe tbody tr th:only-of-type {\n",
              "        vertical-align: middle;\n",
              "    }\n",
              "\n",
              "    .dataframe tbody tr th {\n",
              "        vertical-align: top;\n",
              "    }\n",
              "\n",
              "    .dataframe thead th {\n",
              "        text-align: right;\n",
              "    }\n",
              "</style>\n",
              "<table border=\"1\" class=\"dataframe\">\n",
              "  <thead>\n",
              "    <tr style=\"text-align: right;\">\n",
              "      <th></th>\n",
              "      <th>air_temperature</th>\n",
              "    </tr>\n",
              "  </thead>\n",
              "  <tbody>\n",
              "    <tr>\n",
              "      <th>count</th>\n",
              "      <td>360.000000</td>\n",
              "    </tr>\n",
              "    <tr>\n",
              "      <th>mean</th>\n",
              "      <td>4.891389</td>\n",
              "    </tr>\n",
              "    <tr>\n",
              "      <th>std</th>\n",
              "      <td>3.023908</td>\n",
              "    </tr>\n",
              "    <tr>\n",
              "      <th>min</th>\n",
              "      <td>-5.700000</td>\n",
              "    </tr>\n",
              "    <tr>\n",
              "      <th>25%</th>\n",
              "      <td>2.975000</td>\n",
              "    </tr>\n",
              "    <tr>\n",
              "      <th>50%</th>\n",
              "      <td>5.300000</td>\n",
              "    </tr>\n",
              "    <tr>\n",
              "      <th>75%</th>\n",
              "      <td>6.900000</td>\n",
              "    </tr>\n",
              "    <tr>\n",
              "      <th>max</th>\n",
              "      <td>12.900000</td>\n",
              "    </tr>\n",
              "  </tbody>\n",
              "</table>\n",
              "</div><br><label><b>dtype:</b> float64</label>"
            ]
          },
          "metadata": {},
          "execution_count": 37
        },
        {
          "output_type": "display_data",
          "data": {
            "text/plain": [
              "<Figure size 640x480 with 1 Axes>"
            ],
            "image/png": "[encoded data removed]"
          },
          "metadata": {}
        }
      ]
    },
    {
      "cell_type": "code",
      "source": [
        "# positively skewed - replace missing values with the median - 5.3\n",
        "temp.loc[condition_5, 'air_temperature'] = temp.loc[condition_5, 'air_temperature'].fillna(5.3)"
      ],
      "metadata": {
        "id": "PQfvOqeTV2QT"
      },
      "execution_count": null,
      "outputs": []
    },
    {
      "cell_type": "code",
      "source": [
        "# explore the distribution for season 3 at station 10\n",
        "plt.hist(filtered_data_6['air_temperature'], bins=10, edgecolor='black')\n",
        "filtered_data_6['air_temperature'].describe()"
      ],
      "metadata": {
        "colab": {
          "base_uri": "https://localhost:8080/",
          "height": 748
        },
        "id": "wnxvADtgV7qX",
        "outputId": "b9456a26-48fa-4cdb-e90e-978555e2bc9a"
      },
      "execution_count": null,
      "outputs": [
        {
          "output_type": "execute_result",
          "data": {
            "text/plain": [
              "count    367.000000\n",
              "mean      15.845232\n",
              "std        2.930763\n",
              "min        9.600000\n",
              "25%       14.000000\n",
              "50%       15.500000\n",
              "75%       17.100000\n",
              "max       30.900000\n",
              "Name: air_temperature, dtype: float64"
            ],
            "text/html": [
              "<div>\n",
              "<style scoped>\n",
              "    .dataframe tbody tr th:only-of-type {\n",
              "        vertical-align: middle;\n",
              "    }\n",
              "\n",
              "    .dataframe tbody tr th {\n",
              "        vertical-align: top;\n",
              "    }\n",
              "\n",
              "    .dataframe thead th {\n",
              "        text-align: right;\n",
              "    }\n",
              "</style>\n",
              "<table border=\"1\" class=\"dataframe\">\n",
              "  <thead>\n",
              "    <tr style=\"text-align: right;\">\n",
              "      <th></th>\n",
              "      <th>air_temperature</th>\n",
              "    </tr>\n",
              "  </thead>\n",
              "  <tbody>\n",
              "    <tr>\n",
              "      <th>count</th>\n",
              "      <td>367.000000</td>\n",
              "    </tr>\n",
              "    <tr>\n",
              "      <th>mean</th>\n",
              "      <td>15.845232</td>\n",
              "    </tr>\n",
              "    <tr>\n",
              "      <th>std</th>\n",
              "      <td>2.930763</td>\n",
              "    </tr>\n",
              "    <tr>\n",
              "      <th>min</th>\n",
              "      <td>9.600000</td>\n",
              "    </tr>\n",
              "    <tr>\n",
              "      <th>25%</th>\n",
              "      <td>14.000000</td>\n",
              "    </tr>\n",
              "    <tr>\n",
              "      <th>50%</th>\n",
              "      <td>15.500000</td>\n",
              "    </tr>\n",
              "    <tr>\n",
              "      <th>75%</th>\n",
              "      <td>17.100000</td>\n",
              "    </tr>\n",
              "    <tr>\n",
              "      <th>max</th>\n",
              "      <td>30.900000</td>\n",
              "    </tr>\n",
              "  </tbody>\n",
              "</table>\n",
              "</div><br><label><b>dtype:</b> float64</label>"
            ]
          },
          "metadata": {},
          "execution_count": 39
        },
        {
          "output_type": "display_data",
          "data": {
            "text/plain": [
              "<Figure size 640x480 with 1 Axes>"
            ],
            "image/png": "[encoded data removed]"
          },
          "metadata": {}
        }
      ]
    },
    {
      "cell_type": "code",
      "source": [
        "# negatively skewed - replace missing values with the median - 15.5\n",
        "temp.loc[condition_6, 'air_temperature'] = temp.loc[condition_6, 'air_temperature'].fillna(15.5)"
      ],
      "metadata": {
        "id": "C0IG4ECJWBB7"
      },
      "execution_count": null,
      "outputs": []
    },
    {
      "cell_type": "code",
      "source": [
        "# explore the distribution for season 4 at station 11\n",
        "plt.hist(filtered_data_7['air_temperature'], bins=10, edgecolor='black')\n",
        "filtered_data_7['air_temperature'].describe()"
      ],
      "metadata": {
        "colab": {
          "base_uri": "https://localhost:8080/",
          "height": 748
        },
        "id": "0vtkMoFdWH_O",
        "outputId": "1c054e43-e2f8-41c1-f248-4a9a9ff02ca0"
      },
      "execution_count": null,
      "outputs": [
        {
          "output_type": "execute_result",
          "data": {
            "text/plain": [
              "count    363.000000\n",
              "mean       9.704683\n",
              "std        4.011283\n",
              "min       -2.400000\n",
              "25%        7.400000\n",
              "50%        9.900000\n",
              "75%       12.350000\n",
              "max       22.200000\n",
              "Name: air_temperature, dtype: float64"
            ],
            "text/html": [
              "<div>\n",
              "<style scoped>\n",
              "    .dataframe tbody tr th:only-of-type {\n",
              "        vertical-align: middle;\n",
              "    }\n",
              "\n",
              "    .dataframe tbody tr th {\n",
              "        vertical-align: top;\n",
              "    }\n",
              "\n",
              "    .dataframe thead th {\n",
              "        text-align: right;\n",
              "    }\n",
              "</style>\n",
              "<table border=\"1\" class=\"dataframe\">\n",
              "  <thead>\n",
              "    <tr style=\"text-align: right;\">\n",
              "      <th></th>\n",
              "      <th>air_temperature</th>\n",
              "    </tr>\n",
              "  </thead>\n",
              "  <tbody>\n",
              "    <tr>\n",
              "      <th>count</th>\n",
              "      <td>363.000000</td>\n",
              "    </tr>\n",
              "    <tr>\n",
              "      <th>mean</th>\n",
              "      <td>9.704683</td>\n",
              "    </tr>\n",
              "    <tr>\n",
              "      <th>std</th>\n",
              "      <td>4.011283</td>\n",
              "    </tr>\n",
              "    <tr>\n",
              "      <th>min</th>\n",
              "      <td>-2.400000</td>\n",
              "    </tr>\n",
              "    <tr>\n",
              "      <th>25%</th>\n",
              "      <td>7.400000</td>\n",
              "    </tr>\n",
              "    <tr>\n",
              "      <th>50%</th>\n",
              "      <td>9.900000</td>\n",
              "    </tr>\n",
              "    <tr>\n",
              "      <th>75%</th>\n",
              "      <td>12.350000</td>\n",
              "    </tr>\n",
              "    <tr>\n",
              "      <th>max</th>\n",
              "      <td>22.200000</td>\n",
              "    </tr>\n",
              "  </tbody>\n",
              "</table>\n",
              "</div><br><label><b>dtype:</b> float64</label>"
            ]
          },
          "metadata": {},
          "execution_count": 41
        },
        {
          "output_type": "display_data",
          "data": {
            "text/plain": [
              "<Figure size 640x480 with 1 Axes>"
            ],
            "image/png": "[encoded data removed]"
          },
          "metadata": {}
        }
      ]
    },
    {
      "cell_type": "code",
      "source": [
        "# positively skewed - replace missing values with the median - 9.9\n",
        "temp.loc[condition_7, 'air_temperature'] = temp.loc[condition_7, 'air_temperature'].fillna(9.9)"
      ],
      "metadata": {
        "id": "m2ddZuKOWOK6"
      },
      "execution_count": null,
      "outputs": []
    },
    {
      "cell_type": "code",
      "source": [
        "# explore the distribution for season 1 at station 11\n",
        "plt.hist(filtered_data_8['air_temperature'], bins=10, edgecolor='black')\n",
        "filtered_data_8['air_temperature'].describe()"
      ],
      "metadata": {
        "colab": {
          "base_uri": "https://localhost:8080/",
          "height": 748
        },
        "id": "mTA7qsyHWYx9",
        "outputId": "d66535f0-a9ad-47f6-93ad-e42ef8c77e25"
      },
      "execution_count": null,
      "outputs": [
        {
          "output_type": "execute_result",
          "data": {
            "text/plain": [
              "count    360.000000\n",
              "mean       4.092778\n",
              "std        3.600124\n",
              "min       -5.900000\n",
              "25%        1.875000\n",
              "50%        4.550000\n",
              "75%        6.500000\n",
              "max       12.700000\n",
              "Name: air_temperature, dtype: float64"
            ],
            "text/html": [
              "<div>\n",
              "<style scoped>\n",
              "    .dataframe tbody tr th:only-of-type {\n",
              "        vertical-align: middle;\n",
              "    }\n",
              "\n",
              "    .dataframe tbody tr th {\n",
              "        vertical-align: top;\n",
              "    }\n",
              "\n",
              "    .dataframe thead th {\n",
              "        text-align: right;\n",
              "    }\n",
              "</style>\n",
              "<table border=\"1\" class=\"dataframe\">\n",
              "  <thead>\n",
              "    <tr style=\"text-align: right;\">\n",
              "      <th></th>\n",
              "      <th>air_temperature</th>\n",
              "    </tr>\n",
              "  </thead>\n",
              "  <tbody>\n",
              "    <tr>\n",
              "      <th>count</th>\n",
              "      <td>360.000000</td>\n",
              "    </tr>\n",
              "    <tr>\n",
              "      <th>mean</th>\n",
              "      <td>4.092778</td>\n",
              "    </tr>\n",
              "    <tr>\n",
              "      <th>std</th>\n",
              "      <td>3.600124</td>\n",
              "    </tr>\n",
              "    <tr>\n",
              "      <th>min</th>\n",
              "      <td>-5.900000</td>\n",
              "    </tr>\n",
              "    <tr>\n",
              "      <th>25%</th>\n",
              "      <td>1.875000</td>\n",
              "    </tr>\n",
              "    <tr>\n",
              "      <th>50%</th>\n",
              "      <td>4.550000</td>\n",
              "    </tr>\n",
              "    <tr>\n",
              "      <th>75%</th>\n",
              "      <td>6.500000</td>\n",
              "    </tr>\n",
              "    <tr>\n",
              "      <th>max</th>\n",
              "      <td>12.700000</td>\n",
              "    </tr>\n",
              "  </tbody>\n",
              "</table>\n",
              "</div><br><label><b>dtype:</b> float64</label>"
            ]
          },
          "metadata": {},
          "execution_count": 43
        },
        {
          "output_type": "display_data",
          "data": {
            "text/plain": [
              "<Figure size 640x480 with 1 Axes>"
            ],
            "image/png": "[encoded data removed]"
          },
          "metadata": {}
        }
      ]
    },
    {
      "cell_type": "code",
      "source": [
        "# positively skewed - replace missing values with the median - 4.55\n",
        "temp.loc[condition_8, 'air_temperature'] = temp.loc[condition_8, 'air_temperature'].fillna(4.55)"
      ],
      "metadata": {
        "id": "CUCiQ5E8Wb6h"
      },
      "execution_count": null,
      "outputs": []
    },
    {
      "cell_type": "code",
      "source": [
        "# check information from temp to explore missing values\n",
        "temp.info()     # 0 missing values"
      ],
      "metadata": {
        "colab": {
          "base_uri": "https://localhost:8080/"
        },
        "id": "ihMpM4loXDSz",
        "outputId": "bfcb0cd0-e975-4781-fd39-46b023bddbc2"
      },
      "execution_count": null,
      "outputs": [
        {
          "output_type": "stream",
          "name": "stdout",
          "text": [
            "<class 'pandas.core.frame.DataFrame'>\n",
            "RangeIndex: 18797 entries, 0 to 18796\n",
            "Data columns (total 8 columns):\n",
            " #   Column           Non-Null Count  Dtype         \n",
            "---  ------           --------------  -----         \n",
            " 0   date             18797 non-null  datetime64[ns]\n",
            " 1   air_temperature  18797 non-null  float64       \n",
            " 2   lat              18797 non-null  float64       \n",
            " 3   long             18797 non-null  float64       \n",
            " 4   station          18797 non-null  int64         \n",
            " 5   season           18797 non-null  int64         \n",
            " 6   month            18797 non-null  int32         \n",
            " 7   year             18797 non-null  int32         \n",
            "dtypes: datetime64[ns](1), float64(3), int32(2), int64(2)\n",
            "memory usage: 1.0 MB\n"
          ]
        }
      ]
    },
    {
      "cell_type": "markdown",
      "source": [
        "# Outliers"
      ],
      "metadata": {
        "id": "OA-Ckrtb99Gy"
      }
    },
    {
      "cell_type": "code",
      "source": [
        "#------ check for outliers ------\n",
        "\n",
        "# create a new figures with size 8x8\n",
        "plt.figure(figsize=(8, 8))\n",
        "# plot boxplot to visualise the distribution of air temperature\n",
        "sns.boxplot(data=temp['air_temperature'], orient='v', palette='Set2')\n",
        "# display the plot\n",
        "plt.show()"
      ],
      "metadata": {
        "colab": {
          "base_uri": "https://localhost:8080/"
        },
        "id": "hlM_X_8LXGze",
        "outputId": "7fe72097-8e9a-4df6-e8db-e6c1a060450a"
      },
      "execution_count": null,
      "outputs": [
        {
          "output_type": "stream",
          "name": "stderr",
          "text": [
            "<ipython-input-46-9e1ef8be9693>:6: FutureWarning: \n",
            "\n",
            "Passing `palette` without assigning `hue` is deprecated and will be removed in v0.14.0. Assign the `x` variable to `hue` and set `legend=False` for the same effect.\n",
            "\n",
            "  sns.boxplot(data=temp['air_temperature'], orient='v', palette='Set2')\n"
          ]
        },
        {
          "output_type": "display_data",
          "data": {
            "text/plain": [
              "<Figure size 800x800 with 1 Axes>"
            ],
            "image/png": "[encoded data removed]"
          },
          "metadata": {}
        }
      ]
    },
    {
      "cell_type": "code",
      "source": [
        "#------ remove outliers ------\n",
        "\n",
        "# remove temperatures greater than 28\n",
        "temp = temp[temp['air_temperature'] <= 28]\n",
        "# remove temperatures lower than -8\n",
        "temp = temp[temp['air_temperature'] >= -8]"
      ],
      "metadata": {
        "id": "oZpsTdj8XMrT"
      },
      "execution_count": null,
      "outputs": []
    },
    {
      "cell_type": "markdown",
      "source": [
        "# Save"
      ],
      "metadata": {
        "id": "6Lzdd05M-SqH"
      }
    },
    {
      "cell_type": "code",
      "source": [
        "# save data as a csv file\n",
        "temp.to_csv('temp_df.csv', index=False)"
      ],
      "metadata": {
        "id": "iXVKC2jPXqti"
      },
      "execution_count": null,
      "outputs": []
    }
  ]
}